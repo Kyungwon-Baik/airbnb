{
  "nbformat": 4,
  "nbformat_minor": 0,
  "metadata": {
    "colab": {
      "name": "경원_정렬(1).ipynb",
      "provenance": [],
      "include_colab_link": true
    },
    "kernelspec": {
      "display_name": "Python 3",
      "name": "python3"
    },
    "language_info": {
      "name": "python"
    }
  },
  "cells": [
    {
      "cell_type": "markdown",
      "metadata": {
        "id": "view-in-github",
        "colab_type": "text"
      },
      "source": [
        "<a href=\"https://colab.research.google.com/github/Kyungwon-Baik/airbnb/blob/main/%EA%B2%BD%EC%9B%90_%EC%A0%95%EB%A0%AC(1).ipynb\" target=\"_parent\"><img src=\"https://colab.research.google.com/assets/colab-badge.svg\" alt=\"Open In Colab\"/></a>"
      ]
    },
    {
      "cell_type": "markdown",
      "metadata": {
        "id": "a4LJMlkj-B9E"
      },
      "source": [
        "# **06 정렬 알고리즘**\n",
        "\n",
        "---\n",
        "\n"
      ]
    },
    {
      "cell_type": "markdown",
      "metadata": {
        "id": "m6KMB4teSMsZ"
      },
      "source": [
        "#### ヽ〳 ՞ ᗜ ՞ 〵ง 정렬이란???\n",
        "- 항목값의 대소관계에 따라 키key(이름, 학번, 학점)를 일정한 순서로 늘어놓는 것\n",
        "- 오름차순 vs 내림차순\n",
        "- 안정 vs 불안정  \n",
        "같은 원소 간의 순서 교환 여부.  \n",
        "일반적으로, 이웃한 원소끼리 비교하는 알고리즘이 안정적\n",
        "- 패스pass  \n",
        "일련의 비교, 교환 과정"
      ]
    },
    {
      "cell_type": "markdown",
      "metadata": {
        "id": "rHiylGdZb8Ds"
      },
      "source": [
        "## 06-1 정렬 알고리즘\n",
        "- 버블 정렬\n",
        "- 단순 선택 정렬\n",
        "- 단순 삽입 정렬\n",
        "- 셸 정렬\n",
        "- 퀵 정렬\n",
        "- 병합 정렬\n",
        "- 힙 정렬\n",
        "- 도수 정렬"
      ]
    },
    {
      "cell_type": "markdown",
      "metadata": {
        "id": "PtRBLOypPVfQ"
      },
      "source": [
        "### 관련 문제\n",
        "https://www.acmicpc.net/problemset?sort=ac_desc&algo=97\n",
        "### 참고자료\n",
        "https://gyoogle.dev/blog/algorithm/Bubble%20Sort.html"
      ]
    },
    {
      "cell_type": "markdown",
      "metadata": {
        "id": "mNed6qzjGXxW"
      },
      "source": [
        "## 06-2 버블 정렬\n",
        "- 방법  \n",
        " (1) 0부터 n-2까지 i 값을 키워가며  \n",
        " (2) 맨 오른쪽부터 i까지 이웃한 원소를 비교  \n",
        " (3) 이웃한 원소 중 큰 것을 오른쪽으로  \n",
        " (4) i가 n-2가 될 때까지 (2)(3)을 반복\n",
        "- 비교는 n(n-1)/2번 발생\n",
        "- 교환은 평균 n(n-1)/4번 발생\n",
        "- 안정적"
      ]
    },
    {
      "cell_type": "code",
      "metadata": {
        "colab": {
          "base_uri": "https://localhost:8080/"
        },
        "id": "_pYGumvUG7ZX",
        "outputId": "96819a4d-303d-4a42-bf6a-dc7b30d65612"
      },
      "source": [
        "# 버블 정렬 알고리즘\n",
        "\n",
        "from typing import MutableSequence\n",
        "\n",
        "def bubble_sort(a: MutableSequence) -> None:\n",
        "    n = len(a)\n",
        "    for i in range(n - 1):\n",
        "        for j in range(n - 1, i, -1):\n",
        "            if a[j - 1] > a[j]:\n",
        "                a[j - 1], a[j] = a[j], a[j - 1]\n",
        "\n",
        "if __name__ == '__main__':\n",
        "    print('버블 정렬을 수행합니다.')\n",
        "    num = int(input('원소 수를 입력하세요.: '))\n",
        "    x = [None] * num  # 원소 수가 num인 배열을 생성\n",
        "\n",
        "    for i in range(num):\n",
        "        x[i] = int(input(f'x[{i}] : '))\n",
        "\n",
        "    bubble_sort(x)  # 배열 x를 버블 정렬\n",
        "\n",
        "    print('오름차순으로 정렬했습니다.')\n",
        "    for i in range(num):\n",
        "        print(f'x[{i}] = {x[i]}')"
      ],
      "execution_count": 2,
      "outputs": [
        {
          "output_type": "stream",
          "name": "stdout",
          "text": [
            "버블 정렬을 수행합니다.\n",
            "원소 수를 입력하세요.: 3\n",
            "x[0] : 14\n",
            "x[1] : 3\n",
            "x[2] : 2\n",
            "오름차순으로 정렬했습니다.\n",
            "x[0] = 2\n",
            "x[1] = 3\n",
            "x[2] = 14\n"
          ]
        }
      ]
    },
    {
      "cell_type": "code",
      "metadata": {
        "id": "lvPMu347Ld2o"
      },
      "source": [
        "# 버블 정렬 알고리즘(정렬 과정 출력)\n",
        "\n",
        "from typing import MutableSequence\n",
        "\n",
        "def bubble_sort_verbose(a: MutableSequence) -> None:\n",
        "    ccnt = 0  # 비교 횟수\n",
        "    scnt = 0  # 교환 횟수\n",
        "    n = len(a)\n",
        "    for i in range(n - 1):\n",
        "        print(f'패스 {i + 1}')\n",
        "        for j in range(n - 1, i, -1):\n",
        "            for m in range(0, n - 1):\n",
        "               print(f'{a[m]:2}' + ('  ' if m != j - 1 else\n",
        "                                    ' +' if a[j - 1] > a[j] else ' -'), \n",
        "                                    end='')\n",
        "            print(f'{a[n - 1]:2}')\n",
        "            ccnt += 1\n",
        "            if a[j - 1] > a[j]:\n",
        "                scnt += 1\n",
        "                a[j - 1], a[j] = a[j], a[j - 1]\n",
        "        for m in range(0, n - 1):\n",
        "           print(f'{a[m]:2}', end='  ')\n",
        "        print(f'{a[n - 1]:2}')\n",
        "    print(f'비교를 {ccnt}번 했습니다.')\n",
        "    print(f'교환을 {scnt}번 했습니다.')\n",
        "\n",
        "if __name__ == '__main__':\n",
        "    print('버블 정렬을 수행합니다.')\n",
        "    num = int(input('원소 수를 입력하세요.: '))\n",
        "    x = [None] * num  # 원소 수가 num인 배열을 생성\n",
        "\n",
        "    for i in range(num):\n",
        "        x[i] = int(input(f'x[{i}]: '))\n",
        "\n",
        "    bubble_sort_verbose(x)  # 배열 x를 버블 정렬\n",
        "\n",
        "    print('오름차순으로 정렬했습니다.')\n",
        "    for i in range(num):\n",
        "        print(f'x[{i}] = {x[i]}')"
      ],
      "execution_count": null,
      "outputs": []
    },
    {
      "cell_type": "markdown",
      "metadata": {
        "id": "LLUiH2b4HYxD"
      },
      "source": [
        "### 관련문제 백준 1517, 1838, 5531  "
      ]
    },
    {
      "cell_type": "markdown",
      "metadata": {
        "id": "qk3yhsYQK_yF"
      },
      "source": [
        "### 잠깐! MutableSequence는 뭔가요?"
      ]
    },
    {
      "cell_type": "markdown",
      "metadata": {
        "id": "7Trg5sCSLxQy"
      },
      "source": [
        "파이썬 typing 모듈 https://www.daleseo.com/python-typing/  \n",
        "파이썬 typing 모듈이 필요한 이유 https://scribblinganything.tistory.com/29  \n",
        "\n",
        "+) def -> None https://stackoverflow.com/questions/38286718/what-does-def-main-none-do"
      ]
    },
    {
      "cell_type": "markdown",
      "metadata": {
        "id": "ObAyPYG_LoFi"
      },
      "source": [
        "### 버블 정렬 알고리즘 개선하기 (1)"
      ]
    },
    {
      "cell_type": "code",
      "metadata": {
        "id": "Q8UtwDjdMDE-"
      },
      "source": [
        "# i값 안에서 원소 교환이 일어나지 않았으면 이만 멈추자구~\n",
        "\n",
        "from typing import MutableSequence\n",
        "\n",
        "def bubble_sort(a: MutableSequence) -> None:\n",
        "    \"\"\"버블 정렬(교환 횟수에 따른 중단)\"\"\"\n",
        "    n = len(a)\n",
        "    for i in range(n - 1):\n",
        "        exchng = 0  # 패스에서 교환 횟수     ### 패스하는 코드\n",
        "        for j in range(n - 1, i, -1):\n",
        "            if a[j - 1] > a[j]:\n",
        "                a[j - 1], a[j] = a[j], a[j - 1]\n",
        "                exchng += 1\n",
        "        if exchng == 0:\n",
        "            break                            ### 여기까지\n",
        "\n",
        "if __name__ == '__main__':\n",
        "    print('버블 정렬을 합니다.')\n",
        "    num = int(input('원소 수를 입력하세요.: '))\n",
        "    x = [None] * num    # 원소 수 num인 배열을 생성\n",
        "\n",
        "    for i in range(num):\n",
        "        x[i] = int(input(f'x[{i}]: '))\n",
        "\n",
        "    bubble_sort(x)      # 배열 x를 버블 정렬\n",
        "\n",
        "    print('오름차순으로 정렬했습니다.')\n",
        "    for i in range(num):\n",
        "        print(f'x[{i}] = {x[i]}')"
      ],
      "execution_count": null,
      "outputs": []
    },
    {
      "cell_type": "markdown",
      "metadata": {
        "id": "7zh0mtB6NKPT"
      },
      "source": [
        "### 버블 정렬 알고리즘 개선하기 (2)\n",
        "\n"
      ]
    },
    {
      "cell_type": "code",
      "metadata": {
        "id": "Y6lAL2l9MytH"
      },
      "source": [
        "# 저번에 마지막으로 교환이 일어났던 데에서부터만 비교하자구~~\n",
        "\n",
        "from typing import MutableSequence\n",
        "\n",
        "def bubble_sort(a: MutableSequence) -> None:\n",
        "    n = len(a)\n",
        "    k = 0\n",
        "    while k < n - 1:\n",
        "        last = n - 1                              ### 범위를~~ 제한해보자\n",
        "        for j in range(n - 1, k, -1):\n",
        "            if a[j - 1] > a[j]:\n",
        "                a[j - 1], a[j] = a[j], a[j - 1]\n",
        "                last = j\n",
        "        k = last\n",
        "\n",
        "if __name__ == '__main__':\n",
        "    print('버블 정렬을 합니다.')\n",
        "    num = int(input('원솟수를 입력하세요.: '))\n",
        "    x = [None] * num    # 원솟수 num인 배열을 생성\n",
        "\n",
        "    for i in range(num):\n",
        "        x[i] = int(input(f'x[{i}] : '))\n",
        "\n",
        "    bubble_sort(x)      # 배열 x를 버블 정렬\n",
        "\n",
        "    print('오름차순으로 정렬했습니다.')\n",
        "    for i in range(num):\n",
        "        print(f'x[{i}] = {x[i]}')"
      ],
      "execution_count": null,
      "outputs": []
    },
    {
      "cell_type": "markdown",
      "metadata": {
        "id": "wsWdLUD1NgLi"
      },
      "source": [
        "### 응용 - 셰이커 정렬\n",
        "- 이동 거리가 먼 경우, 특히 큰 원소의 이동거리가 먼 경우\n",
        "(ex. 9 1 2 3 4 5 6 7) 작업속도 매우 느림  \n",
        "- 셰이커 정렬: 홀수 패스에서는 가장 작은 원소를 맨 앞으로, 짝수 패스에서는 가장 큰 원소를 맨 뒤로"
      ]
    },
    {
      "cell_type": "code",
      "metadata": {
        "id": "ccQE3GzlNn5B"
      },
      "source": [
        "from typing import MutableSequence\n",
        "\n",
        "def shaker_sort(a: MutableSequence) -> None:\n",
        "    left = 0\n",
        "    right = len(a) - 1\n",
        "    last = right\n",
        "    while left < right:\n",
        "        for j in range(right, left, -1):\n",
        "            if a[j - 1] > a[j]:\n",
        "                a[j - 1], a[j] = a[j], a[j - 1]\n",
        "                last = j\n",
        "        left = last\n",
        "\n",
        "        for j in range(left, right):\n",
        "            if a[j] > a[j + 1]:\n",
        "                a[j], a[j + 1] = a[j + 1], a[j]\n",
        "                last = j\n",
        "        right = last\n",
        "\n",
        "if __name__ == '__main__':\n",
        "    print('셰이커 정렬을 수행합니다')\n",
        "    num = int(input('원소 수를 입력하세요.: '))\n",
        "    x = [None] * num    # 원소 수가 num인 배열을 생성\n",
        "\n",
        "    for i in range(num):\n",
        "        x[i] = int(input(f'x[{i}] : '))\n",
        "\n",
        "    shaker_sort(x)      # 배열 x를 단순 교환 정렬\n",
        "\n",
        "    print('오름차순으로 정렬했습니다.')\n",
        "    for i in range(num):\n",
        "        print(f'x[{i}] = {x[i]}')"
      ],
      "execution_count": null,
      "outputs": []
    },
    {
      "cell_type": "markdown",
      "metadata": {
        "id": "BVu_nzF2Gav0"
      },
      "source": [
        "## 06-3 단순 선택 정렬\n",
        "- 방법  \n",
        "(1) 앞에서부터 정렬  \n",
        "(2) 정렬하지 않은 부분에서 가장 작은 원소 선택  \n",
        "(3) 정렬하지 않은 부분의 맨 앞 원소와 교환\n",
        "- 불안정적"
      ]
    },
    {
      "cell_type": "code",
      "metadata": {
        "id": "XizCnHfsIwyW"
      },
      "source": [
        "# 단순 선택 정렬 알고리즘\n",
        "\n",
        "from typing import MutableSequence\n",
        "\n",
        "def selection_sort(a: MutableSequence) -> None:\n",
        "    \"\"\"단순 선택 정렬\"\"\"\n",
        "    n = len(a)\n",
        "    for i in range(n - 1):\n",
        "        min = i  # 정렬 할 부분에서 가장 작은 원소의 인덱스\n",
        "        for j in range(i + 1, n):\n",
        "            if a[j] < a[min]:\n",
        "                min = j\n",
        "        a[i], a[min] = a[min], a[i]  # 정렬 할 부분에서 맨 앞의 원소와 가장 작은 원소를 교환 \n",
        "\n",
        "if __name__ == '__main__':\n",
        "    print('단순 선택 정렬을 수행합니다.')\n",
        "    num = int(input('원소 수를 입력하세요.: '))\n",
        "    x = [None] * num  # 원소 수가 num인 배열을 생성\n",
        "\n",
        "    for i in range(num):\n",
        "        x[i] = int(input(f'x[{i}] : '))\n",
        "\n",
        "    selection_sort(x)  # 배열 x를 단순 선택 정렬\n",
        "\n",
        "    print('오름차순으로 정렬했습니다.')\n",
        "    for i in range(num):\n",
        "        print(f'x[{i}] = {x[i]}')"
      ],
      "execution_count": null,
      "outputs": []
    },
    {
      "cell_type": "markdown",
      "metadata": {
        "id": "c_JfXuYRGak6"
      },
      "source": [
        "## 06-4 단순 삽입 정렬\n",
        "- 방법  \n",
        "(1) 앞에서부터 정렬  \n",
        "(2) 정렬하지 않은 부분에서 맨 앞 원소 선택, 저장  \n",
        "(3) 정렬한 부분의 원소들을 한칸씩 오른쪽으로 복사, 선택한 원소가 들어가야 할 부분까지  \n",
        "(4) 선택한 원소 삽입  \n",
        "(5) (2)(3)(4) 반복\n",
        "- 장단점  \n",
        "장점: 이미 정렬을 거의 마친 상태에서 속도가 비교적 빠름  \n",
        "단점: 삽입할 위치가 멀면 이동 횟수가 많아짐\n",
        "- 안정적\n"
      ]
    },
    {
      "cell_type": "code",
      "metadata": {
        "id": "ViDin7r0OiiR"
      },
      "source": [
        "# 단순 삽입 정렬 알고리즘\n",
        "\n",
        "from typing import MutableSequence\n",
        "\n",
        "def insertion_sort(a: MutableSequence) -> None:\n",
        "    \"\"\"단순 삽입 정렬\"\"\"\n",
        "    n = len(a)\n",
        "    for i in range(1, n):\n",
        "        j = i\n",
        "        tmp = a[i]\n",
        "        while j > 0 and a[j - 1] > tmp:\n",
        "            a[j] = a[j - 1]\n",
        "            j -= 1\n",
        "        a[j] = tmp\n",
        "\n",
        "if __name__ == '__main__':\n",
        "    print('단순 삽입 정렬을 수행합니다.')\n",
        "    num = int(input('원소 수를 입력하세요.: '))\n",
        "    x = [None] * num  # 원소 수가 num인 배열을 생성\n",
        "\n",
        "    for i in range(num):\n",
        "        x[i] = int(input(f'x[{i}]: '))\n",
        "\n",
        "    insertion_sort(x)  # 배열 x를 단순 삽입 정렬\n",
        "\n",
        "    print('오름차순으로 정렬했습니다.')\n",
        "    for i in range(num):\n",
        "        print(f'x[{i}] = {x[i]}')"
      ],
      "execution_count": null,
      "outputs": []
    },
    {
      "cell_type": "markdown",
      "metadata": {
        "id": "YusZMe9IOv3S"
      },
      "source": [
        "### 응용 - 이진 삽입 정렬\n"
      ]
    },
    {
      "cell_type": "code",
      "metadata": {
        "id": "hthYm4_nO1_F"
      },
      "source": [
        "# 이진 삽입 정렬 알고리즘 구현하기\n",
        "\n",
        "from typing import MutableSequence\n",
        "\n",
        "def binary_insertion_sort(a: MutableSequence) -> None:\n",
        "    n = len(a)\n",
        "    for i in range(1, n):\n",
        "        key = a[i]\n",
        "        pl = 0      # 검색 범위의 맨 앞 원소 인덱스\n",
        "        pr = i - 1  # 검색 범위의 맨 끝 원소 인덱스\n",
        "\n",
        "        while True:\n",
        "            pc = (pl + pr) // 2  # 검색 범위의 중앙 원소 인덱스\n",
        "            if a[pc] == key:     # 검색 성공\n",
        "                break\n",
        "            elif a[pc] < key:\n",
        "                pl = pc + 1\n",
        "            else:\n",
        "                pr = pc - 1\n",
        "            if pl > pr:\n",
        "                break\n",
        "    \n",
        "        pd = pc + 1 if pl <= pr else pr + 1  # 삽입할 위치의 인덱스\n",
        "\n",
        "        for j in range(i, pd, -1):\n",
        "            a[j] = a[j - 1]\n",
        "        a[pd] = key\n",
        "\n",
        "if __name__ == \"__main__\":\n",
        "    print(\"이진 삽입 정렬을 수행합니다.\")\n",
        "    num = int(input(\"원소 수를 입력하세요.: \"))\n",
        "    x = [None] * num          # 원소 수가 num인 배열을 생성\n",
        "\n",
        "    for i in range(num):\n",
        "        x[i] = int(input(f\"x[{i}]: \"))\n",
        "\n",
        "    binary_insertion_sort(x)  # 배열 x를 이진 삽입 정렬\n",
        "\n",
        "    print(\"오름차순으로 정렬했습니다.\")\n",
        "    for i in range(num):\n",
        "        print(f\"x[{i}] = {x[i]}\")"
      ],
      "execution_count": null,
      "outputs": []
    },
    {
      "cell_type": "markdown",
      "metadata": {
        "id": "HnTdjK5fIYM3"
      },
      "source": [
        "### 관련문제 백준 9078, 13884"
      ]
    },
    {
      "cell_type": "markdown",
      "metadata": {
        "id": "6Gzc4sjHGs-9"
      },
      "source": [
        "## 06-5 셸 정렬\n",
        "- 시간 복잡도  \n",
        "버블, 단순 선택, 단순 삽입은 O(n^2)  \n",
        "셸 정렬은 O(n^1.25)  \n",
        "퀵 정렬 등장 전까지 가장 빠른 알고리즘이었음\n",
        "- 방법  \n",
        "(1) h값 지정  \n",
        "(2) 원소를 h 간격으로 하나씩, 여러 조로 묶음  \n",
        "(3) 그룹 정렬  \n",
        "(4) h값 작게 변경하고 (2)(3) 반복 h값이 1이 될 때까지  \n",
        "\n",
        "- h값의 지정  \n",
        "  * 초기값이 너무 크지 않도록\n",
        "  * 서로 배수가 되지 않도록\n",
        "\n",
        "- 불안정적\n",
        "참고: https://gmlwjd9405.github.io/2018/05/08/algorithm-shell-sort.html\n"
      ]
    },
    {
      "cell_type": "code",
      "metadata": {
        "id": "a4UNfT4oROAB"
      },
      "source": [
        "셸 정렬 알고리즘(h의 최대값은 n//9, h * 3 + 1의 수열 사용)\n",
        "\n",
        "from typing import MutableSequence\n",
        "\n",
        "def shell_sort(a: MutableSequence) -> None:\n",
        "    n = len(a)\n",
        "    h = 1\n",
        "\n",
        "    while h < n // 9:\n",
        "        h = h * 3 + 1\n",
        "\n",
        "    while h > 0:\n",
        "        for i in range(h, n):\n",
        "            j = i - h\n",
        "            tmp = a[i]\n",
        "            while j >= 0 and a[j] > tmp:\n",
        "                a[j + h] = a[j]\n",
        "                j -= h\n",
        "            a[j + h] = tmp\n",
        "        h //= 3\n",
        "\n",
        "if __name__ == '__main__':\n",
        "    print('셸 정렬을 수행합니다(h * 3 + 1의 수열 사용).')\n",
        "    num = int(input('원소 수를 입력하세요.: '))\n",
        "    x = [None] * num  # 원소 수가 num인 배열을 생성\n",
        "\n",
        "    for i in range(num):\n",
        "        x[i] = int(input(f'x[{i}]: '))\n",
        "\n",
        "    shell_sort(x)  # 배열 x를 셸 정렬\n",
        "\n",
        "    print('오름차순으로 정렬했습니다.')\n",
        "    for i in range(num):\n",
        "        print(f'x[{i}] = {x[i]}')"
      ],
      "execution_count": null,
      "outputs": []
    },
    {
      "cell_type": "markdown",
      "metadata": {
        "id": "ALW04CZ3JYYh"
      },
      "source": [
        "## 함께 풀어보아요\n",
        "백준 10814 https://www.acmicpc.net/problem/10814\n"
      ]
    }
  ]
}